{
 "cells": [
  {
   "cell_type": "code",
   "execution_count": 1,
   "id": "2e689041",
   "metadata": {},
   "outputs": [],
   "source": [
    "%load_ext autoreload\n",
    "%autoreload 2"
   ]
  },
  {
   "cell_type": "code",
   "execution_count": 25,
   "id": "e3b45cf3",
   "metadata": {},
   "outputs": [],
   "source": [
    "import numpy as np\n",
    "\n",
    "from environment import CityModel, DefaultUpdateRules\n",
    "from agent import RandomPlanner\n",
    "import utils"
   ]
  },
  {
   "cell_type": "code",
   "execution_count": null,
   "id": "1a3ee6c3",
   "metadata": {},
   "outputs": [],
   "source": []
  },
  {
   "cell_type": "code",
   "execution_count": null,
   "id": "003e34a3",
   "metadata": {},
   "outputs": [
    {
     "name": "stdout",
     "output_type": "stream",
     "text": [
      "City\n",
      "[[0 0 0 0 0 0 0 0 0 0 0 0 0 0 0]\n",
      " [0 0 0 0 0 0 0 0 0 0 0 0 0 0 0]\n",
      " [0 0 0 0 0 0 0 0 0 0 0 0 0 0 0]\n",
      " [0 0 0 0 0 0 0 0 0 0 0 0 0 0 0]\n",
      " [0 0 0 0 0 0 0 0 0 0 0 0 0 0 0]\n",
      " [0 2 0 0 0 0 0 0 0 0 0 0 0 0 0]\n",
      " [0 0 0 1 0 0 0 0 0 0 0 0 0 0 0]\n",
      " [0 0 0 0 0 0 0 0 0 0 0 0 0 0 0]\n",
      " [0 0 0 0 0 0 0 0 0 0 0 0 0 0 0]\n",
      " [0 0 0 1 1 0 0 0 0 0 0 0 0 0 0]]\n",
      "\n",
      "=====Stats=====\n",
      "Population: 5.0 / 30\n",
      "Pollution: 0\n"
     ]
    }
   ],
   "source": [
    "update_rules = DefaultUpdateRules()\n",
    "model = CityModel(RandomPlanner, 10, 15, update_rules)\n",
    "\n",
    "#let's try placing a tile\n",
    "\n",
    "model.set_tile(5,1,utils.GREENERY)\n",
    "model.set_tile(6,3,utils.RESIDENCE)\n",
    "model.set_tile(9,4,utils.RESIDENCE)\n",
    "model.set_tile(9,3,utils.RESIDENCE)\n",
    "model.set_tile(8,3,utils.SERVICE)\n",
    "print(\"City\")\n",
    "print(model.grid.tile._mesa_data)\n",
    "\n",
    "model.update_rules.apply_rules(model)\n",
    "\n",
    "print()\n",
    "model.print_stats()"
   ]
  },
  {
   "cell_type": "code",
   "execution_count": 47,
   "id": "cdc48bd6",
   "metadata": {},
   "outputs": [],
   "source": [
    "import numpy as np\n",
    "from scipy.ndimage import distance_transform_cdt\n",
    "\n",
    "B = np.array([\n",
    "    [0, 0, 0, 0, 0,0,0],\n",
    "    [0, 1, 0, 0, 0,0,0],\n",
    "    [0, 0, 0, 0, 0,0,0],\n",
    "    [0, 0, 0, 1, 0,0,0],\n",
    "    [0, 0, 0, 0, 0,0,0],\n",
    "    [0, 0, 0, 0, 0,0,1],\n",
    "], dtype=bool)\n",
    "\n",
    "C = np.array([\n",
    "    [0, 0, 0, 1, 0,0,0],\n",
    "    [0, 0, 0, 0, 0,0,0],\n",
    "    [0, 0, 1, 0, 0,0,0],\n",
    "    [0, 0, 0, 0, 0,0,0],\n",
    "    [0, 0, 0, 0, 0,1,0],\n",
    "    [0, 0, 0, 0, 0,0,0],\n",
    "], dtype=bool)\n"
   ]
  },
  {
   "cell_type": "code",
   "execution_count": 55,
   "id": "01ae08b3",
   "metadata": {},
   "outputs": [
    {
     "name": "stdout",
     "output_type": "stream",
     "text": [
      "Coverage\n",
      "[[1 1 1 2 3 3 3]\n",
      " [1 0 1 2 2 2 3]\n",
      " [1 1 1 1 1 2 3]\n",
      " [2 2 1 0 1 2 2]\n",
      " [3 2 1 1 1 1 1]\n",
      " [3 2 2 2 2 1 0]]\n",
      "affected\n",
      "[[0 0 0 2 0 0 0]\n",
      " [0 0 0 0 0 0 0]\n",
      " [0 0 1 0 0 0 0]\n",
      " [0 0 0 0 0 0 0]\n",
      " [0 0 0 0 0 1 0]\n",
      " [0 0 0 0 0 0 0]]\n"
     ]
    },
    {
     "data": {
      "text/plain": [
       "array([[False, False, False, False, False, False, False],\n",
       "       [False, False, False, False, False, False, False],\n",
       "       [False, False,  True, False, False, False, False],\n",
       "       [False, False, False, False, False, False, False],\n",
       "       [False, False, False, False, False,  True, False],\n",
       "       [False, False, False, False, False, False, False]])"
      ]
     },
     "execution_count": 55,
     "metadata": {},
     "output_type": "execute_result"
    }
   ],
   "source": [
    "dist = distance_transform_cdt(~B, metric='chessboard')\n",
    "print('Coverage')\n",
    "print(dist)\n",
    "\n",
    "print('affected')\n",
    "affected = C*dist\n",
    "print(affected)\n",
    "(affected<=1) & (affected > 0)\n"
   ]
  },
  {
   "cell_type": "code",
   "execution_count": null,
   "id": "6bd4ff06",
   "metadata": {},
   "outputs": [],
   "source": []
  }
 ],
 "metadata": {
  "kernelspec": {
   "display_name": "simcity",
   "language": "python",
   "name": "python3"
  },
  "language_info": {
   "codemirror_mode": {
    "name": "ipython",
    "version": 3
   },
   "file_extension": ".py",
   "mimetype": "text/x-python",
   "name": "python",
   "nbconvert_exporter": "python",
   "pygments_lexer": "ipython3",
   "version": "3.12.12"
  }
 },
 "nbformat": 4,
 "nbformat_minor": 5
}
