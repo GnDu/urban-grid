{
 "cells": [
  {
   "cell_type": "code",
   "execution_count": 7,
   "id": "99dd7392",
   "metadata": {},
   "outputs": [
    {
     "name": "stdout",
     "output_type": "stream",
     "text": [
      "The autoreload extension is already loaded. To reload it, use:\n",
      "  %reload_ext autoreload\n"
     ]
    }
   ],
   "source": [
    "%load_ext autoreload\n",
    "%autoreload 2\n",
    "\n",
    "from city_env import CityEnvironment"
   ]
  },
  {
   "cell_type": "markdown",
   "id": "f9ae2eb2",
   "metadata": {},
   "source": [
    "The environment will be created as a grid-based structure where parcels (small sections of land) can\n",
    "be used for different purposes. The environment will follow basic constraints such as:\n",
    "\n",
    "- roads must connect residential zones to services which contributes to increases in population; \n",
    "- industry increases pollution but contributes factor to increasing populatiuon; \n",
    "- greenery / residential improves population. \n",
    "\n",
    "The AI agent will plan sequences of actions for different parcels, infrastructure placements, and greenery. The planner should also account for trade-offs like Pareto front solutions between maximizing population / livability and minimizing pollution."
   ]
  },
  {
   "cell_type": "code",
   "execution_count": 11,
   "id": "12aaff17",
   "metadata": {},
   "outputs": [],
   "source": [
    "# define constants here\n",
    "\n",
    "WIDTH = 10\n",
    "HEIGHT = 10"
   ]
  },
  {
   "cell_type": "markdown",
   "id": "e6343aa2",
   "metadata": {},
   "source": [
    "Each cell is either the following: Road, Industry, Residence, Greenery\n",
    "\n",
    "Each cell either produces pollution / population:\n",
    "- Greenery produces 0 pollution\n",
    "  - To keep it simple, we assume it does no contribute to population growth.\n",
    "- Residence produces population\n",
    "  - To house the people. Or it could be used to increase population cap.\n",
    "- Industry increases pollution but contributes factor to population.\n",
    "  - This could either be a flat increase. Or it could be by scale i.e 2x, 3x\n",
    "- Road connects residence to industry. Contributes to pollution, but it is required to make sure the industry tile contributes\n",
    "\n",
    "At the end of each timestep, population and pollution is calculated based on the tiles put.\n",
    "\n",
    "Consideration, "
   ]
  },
  {
   "cell_type": "code",
   "execution_count": 17,
   "id": "34f94e3a",
   "metadata": {},
   "outputs": [
    {
     "name": "stdout",
     "output_type": "stream",
     "text": [
      "(5, 1) 1\n",
      "(5, 2) 2\n",
      "(5, 0) 3\n"
     ]
    }
   ],
   "source": [
    "# define the grid\n",
    "\n",
    "env = CityEnvironment(width=WIDTH, height=HEIGHT)\n",
    "\n",
    "decisions = {\n",
    "    (5,1): 1,\n",
    "    (5,2): 2,\n",
    "    (5,0): 3\n",
    "}\n",
    "\n",
    "env.forward(decisions)"
   ]
  },
  {
   "cell_type": "code",
   "execution_count": 18,
   "id": "e5326334",
   "metadata": {},
   "outputs": [
    {
     "data": {
      "text/plain": [
       "array([[0., 0., 0., 0., 0., 0., 0., 0., 0., 0.],\n",
       "       [0., 0., 0., 0., 0., 0., 0., 0., 0., 0.],\n",
       "       [0., 0., 0., 0., 0., 0., 0., 0., 0., 0.],\n",
       "       [0., 0., 0., 0., 0., 0., 0., 0., 0., 0.],\n",
       "       [0., 0., 0., 0., 0., 0., 0., 0., 0., 0.],\n",
       "       [3., 1., 2., 0., 0., 0., 0., 0., 0., 0.],\n",
       "       [0., 0., 0., 0., 0., 0., 0., 0., 0., 0.],\n",
       "       [0., 0., 0., 0., 0., 0., 0., 0., 0., 0.],\n",
       "       [0., 0., 0., 0., 0., 0., 0., 0., 0., 0.],\n",
       "       [0., 0., 0., 0., 0., 0., 0., 0., 0., 0.]])"
      ]
     },
     "execution_count": 18,
     "metadata": {},
     "output_type": "execute_result"
    }
   ],
   "source": [
    "env.grid"
   ]
  },
  {
   "cell_type": "code",
   "execution_count": null,
   "id": "f26e6ece",
   "metadata": {},
   "outputs": [],
   "source": []
  },
  {
   "cell_type": "markdown",
   "id": "a43188d5",
   "metadata": {},
   "source": [
    "Need a GUI\n",
    "\n",
    "I want to create a GUI using nodejs to interface with a python web service. Basically, it will render a grid that is provided by the web service. Users can interact with it by 'painting' each cell with a colour and submit the colour to the web service. There is a button that allows the user to 'advance' the "
   ]
  },
  {
   "cell_type": "markdown",
   "id": "c49288cb",
   "metadata": {},
   "source": []
  }
 ],
 "metadata": {
  "kernelspec": {
   "display_name": "pypgm",
   "language": "python",
   "name": "python3"
  },
  "language_info": {
   "codemirror_mode": {
    "name": "ipython",
    "version": 3
   },
   "file_extension": ".py",
   "mimetype": "text/x-python",
   "name": "python",
   "nbconvert_exporter": "python",
   "pygments_lexer": "ipython3",
   "version": "3.12.11"
  }
 },
 "nbformat": 4,
 "nbformat_minor": 5
}
